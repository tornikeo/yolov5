{
 "cells": [
  {
   "cell_type": "code",
   "execution_count": 2,
   "metadata": {},
   "outputs": [],
   "source": [
    "import json\n",
    "import pandas as pd\n",
    "from pathlib import Path"
   ]
  },
  {
   "cell_type": "code",
   "execution_count": 3,
   "metadata": {},
   "outputs": [],
   "source": [
    "graphene = Path('/data/DL_2DMaterials/Dataset_DL_2DMaterials/Graphene')"
   ]
  },
  {
   "cell_type": "code",
   "execution_count": 7,
   "metadata": {},
   "outputs": [],
   "source": [
    "instances = json.load((graphene / 'annotations' / 'instances_train2019.json').open())"
   ]
  },
  {
   "cell_type": "code",
   "execution_count": 9,
   "metadata": {},
   "outputs": [
    {
     "data": {
      "text/plain": [
       "dict_keys(['info', 'annotations', 'categories', 'images'])"
      ]
     },
     "execution_count": 9,
     "metadata": {},
     "output_type": "execute_result"
    }
   ],
   "source": [
    "instances.keys()"
   ]
  },
  {
   "cell_type": "code",
   "execution_count": 10,
   "metadata": {},
   "outputs": [
    {
     "data": {
      "text/plain": [
       "{'year': 2019,\n",
       " 'description': '',\n",
       " 'version': None,\n",
       " 'date_created': '',\n",
       " 'url': 'labelbox.com',\n",
       " 'contributor': 'msatoru@iis.u-tokyo.ac.jp'}"
      ]
     },
     "execution_count": 10,
     "metadata": {},
     "output_type": "execute_result"
    }
   ],
   "source": [
    "instances['info']"
   ]
  },
  {
   "cell_type": "code",
   "execution_count": 12,
   "metadata": {},
   "outputs": [
    {
     "data": {
      "text/plain": [
       "[{'id': 1, 'name': 'Mono_Graphene'},\n",
       " {'id': 2, 'name': 'Few_Graphene'},\n",
       " {'id': 3, 'name': 'Thick_Graphene'}]"
      ]
     },
     "execution_count": 12,
     "metadata": {},
     "output_type": "execute_result"
    }
   ],
   "source": [
    "instances['categories']"
   ]
  },
  {
   "cell_type": "code",
   "execution_count": 16,
   "metadata": {},
   "outputs": [
    {
     "data": {
      "text/plain": [
       "{'date_captured': None,\n",
       " 'coco_url': '',\n",
       " 'flickr_url': '',\n",
       " 'id': 'cjumd81zetpq30987qxvckwhn',\n",
       " 'path': 'train2019/cjlyhoo9awjqq0714crlf57db%2F75a6a1e4-ce6a-d2d1-2363-82a9bb54df51-dl_0000000077_-000020139_0000007228_0000003901.jpg',\n",
       " 'file_name': 'cjlyhoo9awjqq0714crlf57db%2F75a6a1e4-ce6a-d2d1-2363-82a9bb54df51-dl_0000000077_-000020139_0000007228_0000003901.jpg',\n",
       " 'width': 2040,\n",
       " 'license': None,\n",
       " 'height': 1086}"
      ]
     },
     "execution_count": 16,
     "metadata": {},
     "output_type": "execute_result"
    }
   ],
   "source": [
    "instances['images'][0]"
   ]
  },
  {
   "cell_type": "code",
   "execution_count": 23,
   "metadata": {},
   "outputs": [
    {
     "data": {
      "text/plain": [
       "{'image_id': 'cjumd6bmktsox0817d3gfyzc3',\n",
       " 'area': 6643.0,\n",
       " 'segmentation': [[245.0,\n",
       "   296.0,\n",
       "   240.0,\n",
       "   343.0,\n",
       "   244.0,\n",
       "   358.0,\n",
       "   250.0,\n",
       "   365.0,\n",
       "   229.0,\n",
       "   382.0,\n",
       "   234.0,\n",
       "   409.0,\n",
       "   279.0,\n",
       "   425.0,\n",
       "   326.0,\n",
       "   444.0,\n",
       "   294.0,\n",
       "   408.0,\n",
       "   328.0,\n",
       "   417.0,\n",
       "   313.0,\n",
       "   397.0,\n",
       "   291.0,\n",
       "   346.0,\n",
       "   245.0,\n",
       "   296.0]],\n",
       " 'id': 1,\n",
       " 'iscrowd': 0,\n",
       " 'bbox': [229.0, 296.0, 99.0, 148.0],\n",
       " 'category_id': 2}"
      ]
     },
     "execution_count": 23,
     "metadata": {},
     "output_type": "execute_result"
    }
   ],
   "source": [
    "instances['annotations'][0]"
   ]
  },
  {
   "cell_type": "code",
   "execution_count": 24,
   "metadata": {},
   "outputs": [],
   "source": [
    "import os\n",
    "import sys\n",
    "import random\n",
    "import math\n",
    "import re\n",
    "import time\n",
    "import numpy as np\n",
    "import matplotlib\n",
    "import matplotlib.pyplot as plt\n",
    "import matplotlib.patches as patches\n",
    "import cv2"
   ]
  },
  {
   "cell_type": "code",
   "execution_count": null,
   "metadata": {},
   "outputs": [],
   "source": []
  },
  {
   "cell_type": "code",
   "execution_count": null,
   "metadata": {},
   "outputs": [],
   "source": [
    "image_id = random.choice(dataset.image_ids)\n",
    "image, image_meta, gt_class_id, gt_bbox, gt_mask =\\\n",
    "    modellib.load_image_gt(dataset, config, image_id, use_mini_mask=False)\n",
    "info = dataset.image_info[image_id]\n",
    "print(\"image ID: {}.{} ({}) {}\".format(info[\"source\"], info[\"id\"], image_id, \n",
    "                                       dataset.image_reference(image_id)))"
   ]
  }
 ],
 "metadata": {
  "kernelspec": {
   "display_name": "base",
   "language": "python",
   "name": "python3"
  },
  "language_info": {
   "codemirror_mode": {
    "name": "ipython",
    "version": 3
   },
   "file_extension": ".py",
   "mimetype": "text/x-python",
   "name": "python",
   "nbconvert_exporter": "python",
   "pygments_lexer": "ipython3",
   "version": "3.8.10 | packaged by conda-forge | (default, May 11 2021, 07:01:05) \n[GCC 9.3.0]"
  },
  "orig_nbformat": 4,
  "vscode": {
   "interpreter": {
    "hash": "d4d1e4263499bec80672ea0156c357c1ee493ec2b1c70f0acce89fc37c4a6abe"
   }
  }
 },
 "nbformat": 4,
 "nbformat_minor": 2
}
